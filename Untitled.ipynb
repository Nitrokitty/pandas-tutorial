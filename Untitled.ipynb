{
 "cells": [
  {
   "cell_type": "code",
   "execution_count": 86,
   "id": "fd9b3186",
   "metadata": {},
   "outputs": [
    {
     "name": "stdout",
     "output_type": "stream",
     "text": [
      "         # Name Type 1 Type 2 HP Attack Defense Sp. Atk Sp. Def Speed  \\\n",
      "Fire     1    1    NaN      0  1      1       1       1       1     1   \n",
      "Grass    4    4    NaN      4  4      4       4       4       4     4   \n",
      "Fire     4    4    NaN      3  4      4       4       4       4     4   \n",
      "Water    1    1    NaN      0  1      1       1       1       1     1   \n",
      "Bug      2    2    NaN      0  2      2       2       2       2     2   \n",
      "...     ..  ...    ...    ... ..    ...     ...     ...     ...   ...   \n",
      "Fairy    1    1    NaN      0  1      1       1       1       1     1   \n",
      "Flying   2    2    NaN      2  2      2       2       2       2     2   \n",
      "Fire     1    1    NaN      1  1      1       1       1       1     1   \n",
      "Psychic  2    2    NaN      2  2      2       2       2       2     2   \n",
      "Rock     2    2    NaN      2  2      2       2       2       2     2   \n",
      "\n",
      "        Generation Legendary count  \n",
      "Fire             1         1   NaN  \n",
      "Grass            4         4   NaN  \n",
      "Fire             4         4   NaN  \n",
      "Water            1         1   NaN  \n",
      "Bug              2         2   NaN  \n",
      "...            ...       ...   ...  \n",
      "Fairy            1         1   NaN  \n",
      "Flying           2         2   NaN  \n",
      "Fire             1         1   NaN  \n",
      "Psychic          2         2   NaN  \n",
      "Rock             2         2   NaN  \n",
      "\n",
      "[433 rows x 13 columns]\n"
     ]
    }
   ],
   "source": [
    "print(new_df)"
   ]
  },
  {
   "cell_type": "code",
   "execution_count": null,
   "id": "b238bd69",
   "metadata": {},
   "outputs": [],
   "source": []
  }
 ],
 "metadata": {
  "kernelspec": {
   "display_name": "Python 3 (ipykernel)",
   "language": "python",
   "name": "python3"
  },
  "language_info": {
   "codemirror_mode": {
    "name": "ipython",
    "version": 3
   },
   "file_extension": ".py",
   "mimetype": "text/x-python",
   "name": "python",
   "nbconvert_exporter": "python",
   "pygments_lexer": "ipython3",
   "version": "3.9.12"
  }
 },
 "nbformat": 4,
 "nbformat_minor": 5
}
