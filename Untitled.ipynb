{
 "cells": [
  {
   "cell_type": "code",
   "execution_count": 25,
   "id": "3d4c8aa9",
   "metadata": {},
   "outputs": [
    {
     "name": "stdout",
     "output_type": "stream",
     "text": [
      "       #                   Name   Type 1  Type 2  Speed  Generation  \\\n",
      "0      1              Bulbasaur    Grass  Poison     45           1   \n",
      "1      2                Ivysaur    Grass  Poison     60           1   \n",
      "2      3               Venusaur    Grass  Poison     80           1   \n",
      "3      3  VenusaurMega Venusaur    Grass  Poison     80           1   \n",
      "4      4             Charmander     Fire     NaN     65           1   \n",
      "..   ...                    ...      ...     ...    ...         ...   \n",
      "795  719                Diancie     Rock   Fairy     50           6   \n",
      "796  719    DiancieMega Diancie     Rock   Fairy    110           6   \n",
      "797  720    HoopaHoopa Confined  Psychic   Ghost     70           6   \n",
      "798  720     HoopaHoopa Unbound  Psychic    Dark     80           6   \n",
      "799  721              Volcanion     Fire   Water     70           6   \n",
      "\n",
      "     Legendary  Total  HP  Attack  Defense  Sp. Atk  Sp. Def  \n",
      "0        False  273.0  45      49       49       65       65  \n",
      "1        False    NaN  60      62       63       80       80  \n",
      "2        False    NaN  80      82       83      100      100  \n",
      "3        False    NaN  80     100      123      122      120  \n",
      "4        False    NaN  39      52       43       60       50  \n",
      "..         ...    ...  ..     ...      ...      ...      ...  \n",
      "795       True    NaN  50     100      150      100      150  \n",
      "796       True    NaN  50     160      110      160      110  \n",
      "797       True    NaN  80     110       60      150      130  \n",
      "798       True    NaN  80     160       60      170      130  \n",
      "799       True    NaN  80     110      120      130       90  \n",
      "\n",
      "[800 rows x 13 columns]\n"
     ]
    }
   ],
   "source": [
    "columns = list(df.columns)\n",
    "\n",
    "# Reorder the column names\n",
    "#   columns[0:4]: column names between indexes 0 - 4 inclusive (first 5 items)\n",
    "#   columns[-1]: the last column name\n",
    "#   columns[4:12]: column names between indexes 4 and 12 inclusive\n",
    "new_column_order = columns[0:4] + [columns[-1]] + columns[4:12]\n",
    "\n",
    "# Assign the new column order\n",
    "df = df[new_column_order]\n",
    "\n",
    "print(df)"
   ]
  },
  {
   "cell_type": "code",
   "execution_count": null,
   "id": "1b0e7de7",
   "metadata": {},
   "outputs": [],
   "source": []
  }
 ],
 "metadata": {
  "kernelspec": {
   "display_name": "Python 3 (ipykernel)",
   "language": "python",
   "name": "python3"
  },
  "language_info": {
   "codemirror_mode": {
    "name": "ipython",
    "version": 3
   },
   "file_extension": ".py",
   "mimetype": "text/x-python",
   "name": "python",
   "nbconvert_exporter": "python",
   "pygments_lexer": "ipython3",
   "version": "3.9.12"
  }
 },
 "nbformat": 4,
 "nbformat_minor": 5
}
